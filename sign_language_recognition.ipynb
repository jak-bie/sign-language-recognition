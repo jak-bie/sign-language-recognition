{
 "cells": [
  {
   "cell_type": "markdown",
   "metadata": {
    "id": "sAqbNE--pDp2"
   },
   "source": [
    "Dataset from: http://ayrancianadolu.meb.k12.tr/"
   ]
  },
  {
   "cell_type": "code",
   "execution_count": null,
   "metadata": {
    "id": "EP0EESFyrdEu"
   },
   "outputs": [],
   "source": [
    "from keras.preprocessing.image import ImageDataGenerator\n",
    "from keras.preprocessing import image\n",
    "from keras.applications import imagenet_utils\n",
    "from keras.applications import vgg16\n",
    "from keras.optimizers import Adam, SGD\n",
    "from keras.metrics import categorical_crossentropy\n",
    "\n",
    "from keras.layers import Dense, Flatten, Dropout, BatchNormalization\n",
    "from keras.models import Model\n",
    "\n",
    "from sklearn.metrics import confusion_matrix\n",
    "import itertools\n",
    "import matplotlib.pyplot as plt\n",
    "%matplotlib inline"
   ]
  },
  {
   "cell_type": "code",
   "execution_count": null,
   "metadata": {
    "id": "rcfKzsQo9Ns1"
   },
   "outputs": [],
   "source": [
    "train_path  = 'drive/My Drive/dataset/train'\n",
    "valid_path  = 'drive/My Drive/dataset/valid'\n",
    "test_path  = 'drive/My Drive/dataset/test'"
   ]
  },
  {
   "cell_type": "code",
   "execution_count": null,
   "metadata": {
    "colab": {
     "base_uri": "https://localhost:8080/"
    },
    "id": "zRaOUhuW9Sr-",
    "outputId": "0388fc3c-dc75-444b-f78b-da55f0309e22"
   },
   "outputs": [
    {
     "name": "stdout",
     "output_type": "stream",
     "text": [
      "Found 1712 images belonging to 10 classes.\n",
      "Found 300 images belonging to 10 classes.\n",
      "Found 50 images belonging to 10 classes.\n"
     ]
    }
   ],
   "source": [
    "train_batches = ImageDataGenerator().flow_from_directory(train_path, \n",
    "                                                         target_size=(224,224), \n",
    "                                                         batch_size=10)\n",
    "\n",
    "valid_batches = ImageDataGenerator().flow_from_directory(valid_path,\n",
    "                                                         target_size=(224,224), \n",
    "                                                         batch_size=30)\n",
    "\n",
    "test_batches = ImageDataGenerator().flow_from_directory(test_path, \n",
    "                                                        target_size=(224,224), \n",
    "                                                        batch_size=50, \n",
    "                                                        shuffle=False)"
   ]
  },
  {
   "cell_type": "markdown",
   "metadata": {
    "id": "NANlXDDwMmD9"
   },
   "source": [
    "<center><img src=\"https://neurohive.io/wp-content/uploads/2018/11/vgg16.png\" width=\"75%\"></center>"
   ]
  },
  {
   "cell_type": "code",
   "execution_count": null,
   "metadata": {
    "colab": {
     "base_uri": "https://localhost:8080/"
    },
    "id": "-ZL9CtL79VSq",
    "outputId": "7871ec2d-e58c-447f-aed9-8846bebcafad"
   },
   "outputs": [
    {
     "name": "stdout",
     "output_type": "stream",
     "text": [
      "Downloading data from https://storage.googleapis.com/tensorflow/keras-applications/vgg16/vgg16_weights_tf_dim_ordering_tf_kernels_notop.h5\n",
      "58892288/58889256 [==============================] - 0s 0us/step\n",
      "Model: \"vgg16\"\n",
      "_________________________________________________________________\n",
      "Layer (type)                 Output Shape              Param #   \n",
      "=================================================================\n",
      "input_1 (InputLayer)         [(None, 224, 224, 3)]     0         \n",
      "_________________________________________________________________\n",
      "block1_conv1 (Conv2D)        (None, 224, 224, 64)      1792      \n",
      "_________________________________________________________________\n",
      "block1_conv2 (Conv2D)        (None, 224, 224, 64)      36928     \n",
      "_________________________________________________________________\n",
      "block1_pool (MaxPooling2D)   (None, 112, 112, 64)      0         \n",
      "_________________________________________________________________\n",
      "block2_conv1 (Conv2D)        (None, 112, 112, 128)     73856     \n",
      "_________________________________________________________________\n",
      "block2_conv2 (Conv2D)        (None, 112, 112, 128)     147584    \n",
      "_________________________________________________________________\n",
      "block2_pool (MaxPooling2D)   (None, 56, 56, 128)       0         \n",
      "_________________________________________________________________\n",
      "block3_conv1 (Conv2D)        (None, 56, 56, 256)       295168    \n",
      "_________________________________________________________________\n",
      "block3_conv2 (Conv2D)        (None, 56, 56, 256)       590080    \n",
      "_________________________________________________________________\n",
      "block3_conv3 (Conv2D)        (None, 56, 56, 256)       590080    \n",
      "_________________________________________________________________\n",
      "block3_pool (MaxPooling2D)   (None, 28, 28, 256)       0         \n",
      "_________________________________________________________________\n",
      "block4_conv1 (Conv2D)        (None, 28, 28, 512)       1180160   \n",
      "_________________________________________________________________\n",
      "block4_conv2 (Conv2D)        (None, 28, 28, 512)       2359808   \n",
      "_________________________________________________________________\n",
      "block4_conv3 (Conv2D)        (None, 28, 28, 512)       2359808   \n",
      "_________________________________________________________________\n",
      "block4_pool (MaxPooling2D)   (None, 14, 14, 512)       0         \n",
      "_________________________________________________________________\n",
      "block5_conv1 (Conv2D)        (None, 14, 14, 512)       2359808   \n",
      "_________________________________________________________________\n",
      "block5_conv2 (Conv2D)        (None, 14, 14, 512)       2359808   \n",
      "_________________________________________________________________\n",
      "block5_conv3 (Conv2D)        (None, 14, 14, 512)       2359808   \n",
      "_________________________________________________________________\n",
      "block5_pool (MaxPooling2D)   (None, 7, 7, 512)         0         \n",
      "_________________________________________________________________\n",
      "global_average_pooling2d (Gl (None, 512)               0         \n",
      "=================================================================\n",
      "Total params: 14,714,688\n",
      "Trainable params: 14,714,688\n",
      "Non-trainable params: 0\n",
      "_________________________________________________________________\n"
     ]
    }
   ],
   "source": [
    "base_model = vgg16.VGG16(weights = \"imagenet\", include_top=False, input_shape = (224,224, 3), pooling='avg')\n",
    "base_model.summary()"
   ]
  },
  {
   "cell_type": "code",
   "execution_count": null,
   "metadata": {
    "colab": {
     "base_uri": "https://localhost:8080/"
    },
    "id": "C3Uc6wTW9Yr9",
    "outputId": "56615c5a-27b1-4aeb-c059-c6a4a1cd1c17"
   },
   "outputs": [
    {
     "name": "stdout",
     "output_type": "stream",
     "text": [
      "Model: \"vgg16\"\n",
      "_________________________________________________________________\n",
      "Layer (type)                 Output Shape              Param #   \n",
      "=================================================================\n",
      "input_1 (InputLayer)         [(None, 224, 224, 3)]     0         \n",
      "_________________________________________________________________\n",
      "block1_conv1 (Conv2D)        (None, 224, 224, 64)      1792      \n",
      "_________________________________________________________________\n",
      "block1_conv2 (Conv2D)        (None, 224, 224, 64)      36928     \n",
      "_________________________________________________________________\n",
      "block1_pool (MaxPooling2D)   (None, 112, 112, 64)      0         \n",
      "_________________________________________________________________\n",
      "block2_conv1 (Conv2D)        (None, 112, 112, 128)     73856     \n",
      "_________________________________________________________________\n",
      "block2_conv2 (Conv2D)        (None, 112, 112, 128)     147584    \n",
      "_________________________________________________________________\n",
      "block2_pool (MaxPooling2D)   (None, 56, 56, 128)       0         \n",
      "_________________________________________________________________\n",
      "block3_conv1 (Conv2D)        (None, 56, 56, 256)       295168    \n",
      "_________________________________________________________________\n",
      "block3_conv2 (Conv2D)        (None, 56, 56, 256)       590080    \n",
      "_________________________________________________________________\n",
      "block3_conv3 (Conv2D)        (None, 56, 56, 256)       590080    \n",
      "_________________________________________________________________\n",
      "block3_pool (MaxPooling2D)   (None, 28, 28, 256)       0         \n",
      "_________________________________________________________________\n",
      "block4_conv1 (Conv2D)        (None, 28, 28, 512)       1180160   \n",
      "_________________________________________________________________\n",
      "block4_conv2 (Conv2D)        (None, 28, 28, 512)       2359808   \n",
      "_________________________________________________________________\n",
      "block4_conv3 (Conv2D)        (None, 28, 28, 512)       2359808   \n",
      "_________________________________________________________________\n",
      "block4_pool (MaxPooling2D)   (None, 14, 14, 512)       0         \n",
      "_________________________________________________________________\n",
      "block5_conv1 (Conv2D)        (None, 14, 14, 512)       2359808   \n",
      "_________________________________________________________________\n",
      "block5_conv2 (Conv2D)        (None, 14, 14, 512)       2359808   \n",
      "_________________________________________________________________\n",
      "block5_conv3 (Conv2D)        (None, 14, 14, 512)       2359808   \n",
      "_________________________________________________________________\n",
      "block5_pool (MaxPooling2D)   (None, 7, 7, 512)         0         \n",
      "_________________________________________________________________\n",
      "global_average_pooling2d (Gl (None, 512)               0         \n",
      "=================================================================\n",
      "Total params: 14,714,688\n",
      "Trainable params: 7,079,424\n",
      "Non-trainable params: 7,635,264\n",
      "_________________________________________________________________\n"
     ]
    }
   ],
   "source": [
    "for layer in base_model.layers[:-5]:\n",
    "    layer.trainable = False\n",
    "\n",
    "base_model.summary()"
   ]
  },
  {
   "cell_type": "code",
   "execution_count": null,
   "metadata": {
    "colab": {
     "base_uri": "https://localhost:8080/"
    },
    "id": "SbLrSh7h9aBD",
    "outputId": "76ddc98d-026c-417d-a3fe-9516b4b95c16"
   },
   "outputs": [
    {
     "name": "stdout",
     "output_type": "stream",
     "text": [
      "Model: \"model\"\n",
      "_________________________________________________________________\n",
      "Layer (type)                 Output Shape              Param #   \n",
      "=================================================================\n",
      "input_1 (InputLayer)         [(None, 224, 224, 3)]     0         \n",
      "_________________________________________________________________\n",
      "block1_conv1 (Conv2D)        (None, 224, 224, 64)      1792      \n",
      "_________________________________________________________________\n",
      "block1_conv2 (Conv2D)        (None, 224, 224, 64)      36928     \n",
      "_________________________________________________________________\n",
      "block1_pool (MaxPooling2D)   (None, 112, 112, 64)      0         \n",
      "_________________________________________________________________\n",
      "block2_conv1 (Conv2D)        (None, 112, 112, 128)     73856     \n",
      "_________________________________________________________________\n",
      "block2_conv2 (Conv2D)        (None, 112, 112, 128)     147584    \n",
      "_________________________________________________________________\n",
      "block2_pool (MaxPooling2D)   (None, 56, 56, 128)       0         \n",
      "_________________________________________________________________\n",
      "block3_conv1 (Conv2D)        (None, 56, 56, 256)       295168    \n",
      "_________________________________________________________________\n",
      "block3_conv2 (Conv2D)        (None, 56, 56, 256)       590080    \n",
      "_________________________________________________________________\n",
      "block3_conv3 (Conv2D)        (None, 56, 56, 256)       590080    \n",
      "_________________________________________________________________\n",
      "block3_pool (MaxPooling2D)   (None, 28, 28, 256)       0         \n",
      "_________________________________________________________________\n",
      "block4_conv1 (Conv2D)        (None, 28, 28, 512)       1180160   \n",
      "_________________________________________________________________\n",
      "block4_conv2 (Conv2D)        (None, 28, 28, 512)       2359808   \n",
      "_________________________________________________________________\n",
      "block4_conv3 (Conv2D)        (None, 28, 28, 512)       2359808   \n",
      "_________________________________________________________________\n",
      "block4_pool (MaxPooling2D)   (None, 14, 14, 512)       0         \n",
      "_________________________________________________________________\n",
      "block5_conv1 (Conv2D)        (None, 14, 14, 512)       2359808   \n",
      "_________________________________________________________________\n",
      "block5_conv2 (Conv2D)        (None, 14, 14, 512)       2359808   \n",
      "_________________________________________________________________\n",
      "block5_conv3 (Conv2D)        (None, 14, 14, 512)       2359808   \n",
      "_________________________________________________________________\n",
      "block5_pool (MaxPooling2D)   (None, 7, 7, 512)         0         \n",
      "_________________________________________________________________\n",
      "global_average_pooling2d (Gl (None, 512)               0         \n",
      "_________________________________________________________________\n",
      "softmax (Dense)              (None, 10)                5130      \n",
      "=================================================================\n",
      "Total params: 14,719,818\n",
      "Trainable params: 7,084,554\n",
      "Non-trainable params: 7,635,264\n",
      "_________________________________________________________________\n"
     ]
    }
   ],
   "source": [
    "last_layer = base_model.get_layer('global_average_pooling2d')\n",
    "last_output = last_layer.output\n",
    "x = Dense(10, activation='softmax', name='softmax')(last_output)\n",
    "new_model = Model(inputs=base_model.input, outputs=x)\n",
    "\n",
    "new_model.summary()"
   ]
  },
  {
   "cell_type": "code",
   "execution_count": null,
   "metadata": {
    "id": "N4cDmKj59acV"
   },
   "outputs": [],
   "source": [
    "new_model.compile(Adam(lr=0.0001), loss='categorical_crossentropy', metrics=['accuracy'])"
   ]
  },
  {
   "cell_type": "code",
   "execution_count": null,
   "metadata": {
    "colab": {
     "base_uri": "https://localhost:8080/"
    },
    "id": "owND7Bh89b9f",
    "outputId": "dfe5518f-1a8d-43dc-c6b7-c5b301d3c0e0"
   },
   "outputs": [
    {
     "name": "stderr",
     "output_type": "stream",
     "text": [
      "/usr/local/lib/python3.6/dist-packages/tensorflow/python/keras/engine/training.py:1844: UserWarning: `Model.fit_generator` is deprecated and will be removed in a future version. Please use `Model.fit`, which supports generators.\n",
      "  warnings.warn('`Model.fit_generator` is deprecated and '\n"
     ]
    },
    {
     "name": "stdout",
     "output_type": "stream",
     "text": [
      "Epoch 1/20\n",
      "18/18 [==============================] - 190s 10s/step - loss: 4.8458 - accuracy: 0.2286 - val_loss: 1.8726 - val_accuracy: 0.3111\n",
      "Epoch 2/20\n",
      "18/18 [==============================] - 133s 8s/step - loss: 1.7056 - accuracy: 0.4729 - val_loss: 1.2375 - val_accuracy: 0.5889\n",
      "Epoch 3/20\n",
      "18/18 [==============================] - 114s 6s/step - loss: 1.4415 - accuracy: 0.4922 - val_loss: 0.6844 - val_accuracy: 0.8000\n",
      "Epoch 4/20\n",
      "18/18 [==============================] - 98s 5s/step - loss: 0.4920 - accuracy: 0.8715 - val_loss: 0.4813 - val_accuracy: 0.8556\n",
      "Epoch 5/20\n",
      "18/18 [==============================] - 81s 4s/step - loss: 0.3689 - accuracy: 0.8567 - val_loss: 1.0586 - val_accuracy: 0.7111\n",
      "Epoch 6/20\n",
      "18/18 [==============================] - 67s 4s/step - loss: 0.5421 - accuracy: 0.8713 - val_loss: 0.2618 - val_accuracy: 0.9444\n",
      "Epoch 7/20\n",
      "18/18 [==============================] - 60s 3s/step - loss: 0.2319 - accuracy: 0.9047 - val_loss: 0.1805 - val_accuracy: 0.9444\n",
      "Epoch 8/20\n",
      "18/18 [==============================] - 44s 2s/step - loss: 0.0968 - accuracy: 0.9832 - val_loss: 0.2539 - val_accuracy: 0.9667\n",
      "Epoch 9/20\n",
      "18/18 [==============================] - 44s 2s/step - loss: 0.2647 - accuracy: 0.9695 - val_loss: 0.3813 - val_accuracy: 0.8889\n",
      "Epoch 10/20\n",
      "18/18 [==============================] - 40s 2s/step - loss: 0.0919 - accuracy: 0.9570 - val_loss: 0.0671 - val_accuracy: 0.9778\n",
      "Epoch 11/20\n",
      "18/18 [==============================] - 32s 2s/step - loss: 0.0489 - accuracy: 0.9900 - val_loss: 0.0808 - val_accuracy: 0.9667\n",
      "Epoch 12/20\n",
      "18/18 [==============================] - 27s 2s/step - loss: 0.0583 - accuracy: 0.9832 - val_loss: 0.0597 - val_accuracy: 0.9778\n",
      "Epoch 13/20\n",
      "18/18 [==============================] - 27s 1s/step - loss: 0.0907 - accuracy: 0.9674 - val_loss: 0.1620 - val_accuracy: 0.9556\n",
      "Epoch 14/20\n",
      "18/18 [==============================] - 25s 1s/step - loss: 0.0715 - accuracy: 0.9748 - val_loss: 0.2623 - val_accuracy: 0.9556\n",
      "Epoch 15/20\n",
      "18/18 [==============================] - 16s 873ms/step - loss: 0.0659 - accuracy: 0.9832 - val_loss: 0.2890 - val_accuracy: 0.9444\n",
      "Epoch 16/20\n",
      "18/18 [==============================] - 22s 1s/step - loss: 0.0331 - accuracy: 0.9849 - val_loss: 0.1808 - val_accuracy: 0.9444\n",
      "Epoch 17/20\n",
      "18/18 [==============================] - 19s 1s/step - loss: 0.0569 - accuracy: 0.9793 - val_loss: 0.1274 - val_accuracy: 0.9778\n",
      "Epoch 18/20\n",
      "18/18 [==============================] - 15s 834ms/step - loss: 0.0723 - accuracy: 0.9852 - val_loss: 0.1973 - val_accuracy: 0.9444\n",
      "Epoch 19/20\n",
      "18/18 [==============================] - 17s 905ms/step - loss: 0.0314 - accuracy: 1.0000 - val_loss: 0.1895 - val_accuracy: 0.9889\n",
      "Epoch 20/20\n",
      "18/18 [==============================] - 15s 899ms/step - loss: 0.0143 - accuracy: 0.9984 - val_loss: 0.2203 - val_accuracy: 0.9667\n"
     ]
    }
   ],
   "source": [
    "from keras.callbacks import ModelCheckpoint\n",
    "\n",
    "checkpointer = ModelCheckpoint(filepath='model.hdf5', save_best_only=True)\n",
    "\n",
    "history = new_model.fit_generator(train_batches, steps_per_epoch=18,\n",
    "                   validation_data=valid_batches, validation_steps=3, epochs=20, verbose=1, callbacks=[checkpointer])"
   ]
  },
  {
   "cell_type": "code",
   "execution_count": null,
   "metadata": {
    "colab": {
     "base_uri": "https://localhost:8080/",
     "height": 315
    },
    "id": "y6BKzfnHKiTz",
    "outputId": "222460a2-8c03-48b0-b606-f6c96edf66ae"
   },
   "outputs": [
    {
     "data": {
      "image/png": "[encoded data removed]",
      "text/plain": [
       "<Figure size 1296x360 with 2 Axes>"
      ]
     },
     "metadata": {
      "needs_background": "light",
      "tags": []
     },
     "output_type": "display_data"
    }
   ],
   "source": [
    "figure, axis = plt.subplots(1, 2, figsize=(18,5))\n",
    "axis = axis.ravel()\n",
    "\n",
    "for i,element in enumerate(['accuracy', 'loss']):\n",
    "    axis[i].plot(history.history[element])\n",
    "    axis[i].plot(history.history['val_' + element])\n",
    "    axis[i].set_title('Model {}'.format(element))\n",
    "    axis[i].set_xlabel('liczba epok')\n",
    "    axis[i].set_ylabel(element)\n",
    "    axis[i].legend(['trening', 'walidacja'])"
   ]
  },
  {
   "cell_type": "code",
   "execution_count": null,
   "metadata": {
    "id": "ZLLQ1HAaKi6j"
   },
   "outputs": [],
   "source": [
    "from sklearn.datasets import load_files\n",
    "from keras.utils import np_utils\n",
    "import numpy as np\n",
    "\n",
    "def load_dataset(path):\n",
    "    data = load_files(path)\n",
    "    paths = np.array(data['filenames'])\n",
    "    targets = np_utils.to_categorical(np.array(data['target']))\n",
    "    return paths, targets\n",
    "\n",
    "test_files, test_targets = load_dataset('drive/My Drive/dataset/test')"
   ]
  },
  {
   "cell_type": "code",
   "execution_count": null,
   "metadata": {
    "colab": {
     "base_uri": "https://localhost:8080/"
    },
    "id": "MQ9vi5c-KirR",
    "outputId": "146bb81f-317d-4a1a-d042-91dc102ab971"
   },
   "outputs": [
    {
     "name": "stderr",
     "output_type": "stream",
     "text": [
      "100%|██████████| 50/50 [00:00<00:00, 448.94it/s]\n"
     ]
    }
   ],
   "source": [
    "from keras.preprocessing import image  \n",
    "from keras.applications.vgg16 import preprocess_input\n",
    "from tqdm import tqdm\n",
    "\n",
    "def path_to_tensor(img_path):\n",
    "    img = image.load_img(img_path, target_size=(224, 224))\n",
    "    x = image.img_to_array(img)\n",
    "    return np.expand_dims(x, axis=0)\n",
    "\n",
    "def paths_to_tensor(img_paths):\n",
    "    list_of_tensors = [path_to_tensor(img_path) for img_path in tqdm(img_paths)]\n",
    "    return np.vstack(list_of_tensors)\n",
    "\n",
    "test_tensors = preprocess_input(paths_to_tensor(test_files))"
   ]
  },
  {
   "cell_type": "code",
   "execution_count": null,
   "metadata": {
    "colab": {
     "base_uri": "https://localhost:8080/"
    },
    "id": "gOOnK0atCcOI",
    "outputId": "1d6d873b-679f-4bcd-bd75-c051e65f3266"
   },
   "outputs": [
    {
     "name": "stdout",
     "output_type": "stream",
     "text": [
      "2/2 [==============================] - 3s 979ms/step - loss: 0.1519 - accuracy: 0.9600\n",
      "\n",
      "Strata (loss): 0.1519\n",
      "Dokładność (accuracy): 0.9600\n"
     ]
    }
   ],
   "source": [
    "print('\\nStrata (loss): {:.4f}\\nDokładność (accuracy): {:.4f}'.format(*new_model.evaluate(test_tensors, test_targets)))"
   ]
  },
  {
   "cell_type": "code",
   "execution_count": null,
   "metadata": {
    "colab": {
     "base_uri": "https://localhost:8080/",
     "height": 292
    },
    "id": "K8j9QlEHKie_",
    "outputId": "5b444bf0-4d14-4fd5-da64-d507cc342f36"
   },
   "outputs": [
    {
     "data": {
      "image/png": "[encoded data removed]",
      "text/plain": [
       "<Figure size 432x288 with 2 Axes>"
      ]
     },
     "metadata": {
      "needs_background": "light",
      "tags": []
     },
     "output_type": "display_data"
    }
   ],
   "source": [
    "from sklearn.metrics import confusion_matrix\n",
    "\n",
    "cm_labels = ['0','1','2','3','4','5','6','7','8','9']\n",
    "\n",
    "cm = confusion_matrix(np.argmax(test_targets, axis=1),\n",
    "                      np.argmax(new_model.predict(test_tensors), axis=1))\n",
    "plt.imshow(cm, cmap=plt.cm.Blues)\n",
    "plt.colorbar()\n",
    "indexes = np.arange(len(cm_labels))\n",
    "for i in indexes:\n",
    "    for j in indexes:\n",
    "        plt.text(j, i, cm[i, j])\n",
    "plt.xticks(indexes, cm_labels, rotation=90)\n",
    "plt.xlabel('Przewidywane')\n",
    "plt.yticks(indexes, cm_labels)\n",
    "plt.ylabel('Prawdziwe')\n",
    "plt.title('Macierz pomyłek')\n",
    "plt.show()"
   ]
  }
 ],
 "metadata": {
  "accelerator": "GPU",
  "colab": {
   "collapsed_sections": [],
   "name": "ds_178575.ipynb",
   "provenance": [],
   "toc_visible": true
  },
  "kernelspec": {
   "display_name": "Python 3",
   "language": "python",
   "name": "python3"
  },
  "language_info": {
   "codemirror_mode": {
    "name": "ipython",
    "version": 3
   },
   "file_extension": ".py",
   "mimetype": "text/x-python",
   "name": "python",
   "nbconvert_exporter": "python",
   "pygments_lexer": "ipython3",
   "version": "3.8.5"
  }
 },
 "nbformat": 4,
 "nbformat_minor": 4
}
